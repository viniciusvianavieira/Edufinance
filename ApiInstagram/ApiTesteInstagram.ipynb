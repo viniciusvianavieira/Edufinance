{
 "cells": [
  {
   "cell_type": "code",
   "execution_count": 2,
   "metadata": {},
   "outputs": [],
   "source": [
    "# Import Libraries\n",
    "import requests\n",
    "import json\n",
    "import datetime\n",
    "import pandas as pd\n",
    "\n",
    "# Define Parameters Dictionary\n",
    "params = dict()\n",
    "params['access_token'] = 'EAAr1Pr9o9QcBAFUvX1EOg2fUE9dxciszFoZCUjlKaqwQolcXp8b8edwjjobZCX0GMuR45Y1uDZCG7xWCTUNz0LBPSBbaQ8ygVwVD3BHwDZBH88R39ZANdoFuSOhJhluEYgSyTV3JVYit07z0HBnRRnRNQ3BvGkUUyZBJSPb5KGT6BNnH92EMDg7BGli9R3hFEZD'        # TOKEN DE ACESSO\n",
    "params['client_id'] = '3084399615210759'                  # not an actual client id\n",
    "params['client_secret'] = '199bcd728b98322cec2dd66cfc9ffa5a'     # not an actual client secret\n",
    "params['graph_domain'] = 'https://graph.facebook.com'\n",
    "params['graph_version'] = 'v12.0'\n",
    "params['endpoint_base'] = params['graph_domain'] + '/' + params['graph_version'] + '/'\n",
    "params['page_id'] = '106152182044947'                  # not an actual page id\n",
    "params['instagram_account_id'] = '17841401411209088'        # not an actual instagram business account id\n",
    "params['ig_username'] = 'viniciusvianavieira'"
   ]
  },
  {
   "cell_type": "code",
   "execution_count": 3,
   "metadata": {},
   "outputs": [],
   "source": [
    "endpointParams = dict()\n",
    "endpointParams['input_token'] = params['access_token']\n",
    "endpointParams['access_token'] = params['access_token']\n",
    "\n",
    "# Define URL\n",
    "url = params['graph_domain'] + '/debug_token'\n",
    "\n",
    "\n",
    "# Requests Data\n",
    "data = requests.get(url, endpointParams)\n",
    "access_token_data = json.loads(data.content)\n",
    "# access_token_data"
   ]
  },
  {
   "cell_type": "code",
   "execution_count": 4,
   "metadata": {},
   "outputs": [
    {
     "name": "stdout",
     "output_type": "stream",
     "text": [
      "Token Expires:  2022-05-27 15:04:10\n"
     ]
    }
   ],
   "source": [
    "print(\"Token Expires: \", datetime.datetime.fromtimestamp(access_token_data['data']['expires_at']))\n"
   ]
  },
  {
   "cell_type": "code",
   "execution_count": 5,
   "metadata": {},
   "outputs": [],
   "source": [
    "# Define URL\n",
    "url = params['endpoint_base'] + 'oauth/access_token'\n",
    "\n",
    "# Define Endpoint Parameters\n",
    "endpointParams = dict() \n",
    "endpointParams['grant_type'] = 'fb_exchange_token'\n",
    "endpointParams['client_id'] = params['client_id']\n",
    "endpointParams['client_secret'] = params['client_secret']\n",
    "endpointParams['fb_exchange_token'] = params['access_token']\n",
    "\n",
    "\n",
    "# Requests Data\n",
    "data = requests.get(url, endpointParams )\n",
    "long_lived_token = json.loads(data.content)\n",
    "#long_lived_token\n",
    "\n",
    "\n"
   ]
  },
  {
   "cell_type": "code",
   "execution_count": 8,
   "metadata": {},
   "outputs": [
    {
     "name": "stdout",
     "output_type": "stream",
     "text": [
      "{'fields': 'id,caption'}\n",
      "['17942106577637897', '17904444272084256', '17942783185461876', '17863822130361776', '17859228353363822', '17858653037118951', '18043185997250377', '17852092691034198', '17848915328038738', '17852305657916509', '17853626338881791', '17858301031774359', '17857926820694928', '18069295828197368', '17880700216459824', '17908776652349533', '18077893972056002', '18052256560118502', '18062653915015064', '17992208503214024', '18007770499098386', '18005044594115059', '17901002038301661', '17986760833110266', '17924048794186036', '17848927153268949', '17913890452166302', '17934698071027214', '17897646331193087', '17900424589092720', '17843380978236427', '17887556497164429', '17904466954068878', '17909851345046577', '17891828497096669', '17879278012136110', '17884851775108984', '17894789221013045', '17865803515176363', '17867657392088420', '17879867746008420', '17872511521012208', '17872597360028041', '17871193348052829', '17857456954092670', '17856607219080778', '17864742274035642', '17844046951189359', '17843592859140335', '17854206067112324', '17843266723164960', '17865061585062265', '17864084449027566', '17861389993019252', '17861047885061306', '17843928310119314']\n"
     ]
    },
    {
     "data": {
      "text/plain": [
       "56"
      ]
     },
     "execution_count": 8,
     "metadata": {},
     "output_type": "execute_result"
    }
   ],
   "source": [
    "# Define URL\n",
    "url = params['endpoint_base'] + params['instagram_account_id'] + '/media'\n",
    "\n",
    "\n",
    "# Define Endpoint Parameters\n",
    "endpointParams = dict()\n",
    "endpointParams['fields'] = 'id,caption'#,media_product_type,media_type,permalink,thumbnail_url,timestamp,username,like_count,comments_count#'\n",
    "endpointParams['access_token'] = params['access_token']\n",
    "\n",
    "# Requests Data\n",
    "data = requests.get(url, endpointParams )\n",
    "basic_insight = json.loads(data.content)\n",
    "\n",
    "fotos_ids = []\n",
    "for i in range(0,len(basic_insight['data'])):\n",
    "    fotos_ids.append(basic_insight['data'][i]['id'])\n",
    "\n",
    "\n",
    "Existe_proxima_pagina = True\n",
    "while Existe_proxima_pagina:\n",
    "    try:\n",
    "        url_next = basic_insight['paging']['next']\n",
    "        data_next = requests.get(url_next)\n",
    "        basic_insight = json.loads(data_next.content)\n",
    "        for i in range(0,len(basic_insight['data'])):\n",
    "            fotos_ids.append(basic_insight['data'][i]['id'])\n",
    "    except Exception as e:\n",
    "        Existe_proxima_pagina = False\n",
    "        break \n",
    "print(fotos_ids)\n",
    "len(fotos_ids)"
   ]
  },
  {
   "cell_type": "code",
   "execution_count": 7,
   "metadata": {},
   "outputs": [
    {
     "ename": "ValueError",
     "evalue": "Length mismatch: Expected axis has 2 elements, new values have 10 elements",
     "output_type": "error",
     "traceback": [
      "\u001b[0;31m---------------------------------------------------------------------------\u001b[0m",
      "\u001b[0;31mValueError\u001b[0m                                Traceback (most recent call last)",
      "\u001b[0;32m<ipython-input-7-ba1f6009b6b4>\u001b[0m in \u001b[0;36m<module>\u001b[0;34m\u001b[0m\n\u001b[1;32m      1\u001b[0m \u001b[0mdf\u001b[0m \u001b[0;34m=\u001b[0m \u001b[0mpd\u001b[0m\u001b[0;34m.\u001b[0m\u001b[0mDataFrame\u001b[0m\u001b[0;34m(\u001b[0m\u001b[0mbasic_insight\u001b[0m\u001b[0;34m[\u001b[0m\u001b[0;34m'data'\u001b[0m\u001b[0;34m]\u001b[0m\u001b[0;34m)\u001b[0m\u001b[0;34m\u001b[0m\u001b[0;34m\u001b[0m\u001b[0m\n\u001b[0;32m----> 2\u001b[0;31m \u001b[0mdf\u001b[0m\u001b[0;34m.\u001b[0m\u001b[0mcolumns\u001b[0m \u001b[0;34m=\u001b[0m \u001b[0;34m[\u001b[0m\u001b[0;34m'id'\u001b[0m\u001b[0;34m,\u001b[0m \u001b[0;34m'Caption'\u001b[0m\u001b[0;34m,\u001b[0m \u001b[0;34m'Média_Product_Type'\u001b[0m\u001b[0;34m,\u001b[0m\u001b[0;34m'Media_Type'\u001b[0m\u001b[0;34m,\u001b[0m \u001b[0;34m'Permalink'\u001b[0m\u001b[0;34m,\u001b[0m \u001b[0;34m'Timestamp'\u001b[0m\u001b[0;34m,\u001b[0m \u001b[0;34m'Username'\u001b[0m\u001b[0;34m,\u001b[0m \u001b[0;34m'Likes'\u001b[0m\u001b[0;34m,\u001b[0m \u001b[0;34m'Comments'\u001b[0m\u001b[0;34m,\u001b[0m\u001b[0;34m'Nothing'\u001b[0m\u001b[0;34m]\u001b[0m\u001b[0;34m\u001b[0m\u001b[0;34m\u001b[0m\u001b[0m\n\u001b[0m\u001b[1;32m      3\u001b[0m \u001b[0mdf\u001b[0m\u001b[0;34m\u001b[0m\u001b[0;34m\u001b[0m\u001b[0m\n",
      "\u001b[0;32m/usr/lib/python3/dist-packages/pandas/core/generic.py\u001b[0m in \u001b[0;36m__setattr__\u001b[0;34m(self, name, value)\u001b[0m\n\u001b[1;32m   5190\u001b[0m         \u001b[0;32mtry\u001b[0m\u001b[0;34m:\u001b[0m\u001b[0;34m\u001b[0m\u001b[0;34m\u001b[0m\u001b[0m\n\u001b[1;32m   5191\u001b[0m             \u001b[0mobject\u001b[0m\u001b[0;34m.\u001b[0m\u001b[0m__getattribute__\u001b[0m\u001b[0;34m(\u001b[0m\u001b[0mself\u001b[0m\u001b[0;34m,\u001b[0m \u001b[0mname\u001b[0m\u001b[0;34m)\u001b[0m\u001b[0;34m\u001b[0m\u001b[0;34m\u001b[0m\u001b[0m\n\u001b[0;32m-> 5192\u001b[0;31m             \u001b[0;32mreturn\u001b[0m \u001b[0mobject\u001b[0m\u001b[0;34m.\u001b[0m\u001b[0m__setattr__\u001b[0m\u001b[0;34m(\u001b[0m\u001b[0mself\u001b[0m\u001b[0;34m,\u001b[0m \u001b[0mname\u001b[0m\u001b[0;34m,\u001b[0m \u001b[0mvalue\u001b[0m\u001b[0;34m)\u001b[0m\u001b[0;34m\u001b[0m\u001b[0;34m\u001b[0m\u001b[0m\n\u001b[0m\u001b[1;32m   5193\u001b[0m         \u001b[0;32mexcept\u001b[0m \u001b[0mAttributeError\u001b[0m\u001b[0;34m:\u001b[0m\u001b[0;34m\u001b[0m\u001b[0;34m\u001b[0m\u001b[0m\n\u001b[1;32m   5194\u001b[0m             \u001b[0;32mpass\u001b[0m\u001b[0;34m\u001b[0m\u001b[0;34m\u001b[0m\u001b[0m\n",
      "\u001b[0;32mpandas/_libs/properties.pyx\u001b[0m in \u001b[0;36mpandas._libs.properties.AxisProperty.__set__\u001b[0;34m()\u001b[0m\n",
      "\u001b[0;32m/usr/lib/python3/dist-packages/pandas/core/generic.py\u001b[0m in \u001b[0;36m_set_axis\u001b[0;34m(self, axis, labels)\u001b[0m\n\u001b[1;32m    688\u001b[0m \u001b[0;34m\u001b[0m\u001b[0m\n\u001b[1;32m    689\u001b[0m     \u001b[0;32mdef\u001b[0m \u001b[0m_set_axis\u001b[0m\u001b[0;34m(\u001b[0m\u001b[0mself\u001b[0m\u001b[0;34m,\u001b[0m \u001b[0maxis\u001b[0m\u001b[0;34m,\u001b[0m \u001b[0mlabels\u001b[0m\u001b[0;34m)\u001b[0m\u001b[0;34m:\u001b[0m\u001b[0;34m\u001b[0m\u001b[0;34m\u001b[0m\u001b[0m\n\u001b[0;32m--> 690\u001b[0;31m         \u001b[0mself\u001b[0m\u001b[0;34m.\u001b[0m\u001b[0m_data\u001b[0m\u001b[0;34m.\u001b[0m\u001b[0mset_axis\u001b[0m\u001b[0;34m(\u001b[0m\u001b[0maxis\u001b[0m\u001b[0;34m,\u001b[0m \u001b[0mlabels\u001b[0m\u001b[0;34m)\u001b[0m\u001b[0;34m\u001b[0m\u001b[0;34m\u001b[0m\u001b[0m\n\u001b[0m\u001b[1;32m    691\u001b[0m         \u001b[0mself\u001b[0m\u001b[0;34m.\u001b[0m\u001b[0m_clear_item_cache\u001b[0m\u001b[0;34m(\u001b[0m\u001b[0;34m)\u001b[0m\u001b[0;34m\u001b[0m\u001b[0;34m\u001b[0m\u001b[0m\n\u001b[1;32m    692\u001b[0m \u001b[0;34m\u001b[0m\u001b[0m\n",
      "\u001b[0;32m/usr/lib/python3/dist-packages/pandas/core/internals/managers.py\u001b[0m in \u001b[0;36mset_axis\u001b[0;34m(self, axis, new_labels)\u001b[0m\n\u001b[1;32m    179\u001b[0m \u001b[0;34m\u001b[0m\u001b[0m\n\u001b[1;32m    180\u001b[0m         \u001b[0;32mif\u001b[0m \u001b[0mnew_len\u001b[0m \u001b[0;34m!=\u001b[0m \u001b[0mold_len\u001b[0m\u001b[0;34m:\u001b[0m\u001b[0;34m\u001b[0m\u001b[0;34m\u001b[0m\u001b[0m\n\u001b[0;32m--> 181\u001b[0;31m             raise ValueError(\n\u001b[0m\u001b[1;32m    182\u001b[0m                 \u001b[0;34m\"Length mismatch: Expected axis has {old} elements, new \"\u001b[0m\u001b[0;34m\u001b[0m\u001b[0;34m\u001b[0m\u001b[0m\n\u001b[1;32m    183\u001b[0m                 \u001b[0;34m\"values have {new} elements\"\u001b[0m\u001b[0;34m.\u001b[0m\u001b[0mformat\u001b[0m\u001b[0;34m(\u001b[0m\u001b[0mold\u001b[0m\u001b[0;34m=\u001b[0m\u001b[0mold_len\u001b[0m\u001b[0;34m,\u001b[0m \u001b[0mnew\u001b[0m\u001b[0;34m=\u001b[0m\u001b[0mnew_len\u001b[0m\u001b[0;34m)\u001b[0m\u001b[0;34m\u001b[0m\u001b[0;34m\u001b[0m\u001b[0m\n",
      "\u001b[0;31mValueError\u001b[0m: Length mismatch: Expected axis has 2 elements, new values have 10 elements"
     ]
    }
   ],
   "source": [
    "\n",
    "df = pd.DataFrame(basic_insight['data'])\n",
    "df.columns = ['id', 'Caption', 'Média_Product_Type','Media_Type', 'Permalink', 'Timestamp', 'Username', 'Likes', 'Comments','Nothing']\n",
    "df"
   ]
  },
  {
   "cell_type": "code",
   "execution_count": null,
   "metadata": {},
   "outputs": [
    {
     "name": "stdout",
     "output_type": "stream",
     "text": [
      "{'data': [{'name': 'engagement', 'period': 'lifetime', 'values': [{'value': 196}], 'title': 'Interação', 'description': 'Total de gostos e comentários no conteúdo', 'id': '17942106577637897/insights/engagement/lifetime'}, {'name': 'impressions', 'period': 'lifetime', 'values': [{'value': 1361}], 'title': 'Impressões', 'description': 'Total de vezes que o conteúdo foi visto', 'id': '17942106577637897/insights/impressions/lifetime'}, {'name': 'reach', 'period': 'lifetime', 'values': [{'value': 983}], 'title': 'Alcance', 'description': 'Total de contas individuais que viram o conteúdo', 'id': '17942106577637897/insights/reach/lifetime'}, {'name': 'saved', 'period': 'lifetime', 'values': [{'value': 0}], 'title': 'Guardado', 'description': 'Total de contas individuais que guardaram este conteúdo', 'id': '17942106577637897/insights/saved/lifetime'}, {'name': 'video_views', 'period': 'lifetime', 'values': [{'value': 0}], 'title': 'Visualizações do vídeo', 'description': 'Total de vezes que o vídeo foi visto', 'id': '17942106577637897/insights/video_views/lifetime'}]}\n",
      "{'error': {'message': '(#100) Can not show video views count for non video media', 'type': 'OAuthException', 'code': 100, 'fbtrace_id': 'AgrXqVYVJMSrY_Eeg6XIQKK'}}\n",
      "{'data': [{'name': 'engagement', 'period': 'lifetime', 'values': [{'value': 330}], 'title': 'Interação', 'description': 'Total de gostos e comentários no conteúdo', 'id': '17942783185461876/insights/engagement/lifetime'}, {'name': 'impressions', 'period': 'lifetime', 'values': [{'value': 3363}], 'title': 'Impressões', 'description': 'Total de vezes que o conteúdo foi visto', 'id': '17942783185461876/insights/impressions/lifetime'}, {'name': 'reach', 'period': 'lifetime', 'values': [{'value': 2011}], 'title': 'Alcance', 'description': 'Total de contas individuais que viram o conteúdo', 'id': '17942783185461876/insights/reach/lifetime'}, {'name': 'saved', 'period': 'lifetime', 'values': [{'value': 0}], 'title': 'Guardado', 'description': 'Total de contas individuais que guardaram este conteúdo', 'id': '17942783185461876/insights/saved/lifetime'}, {'name': 'video_views', 'period': 'lifetime', 'values': [{'value': 0}], 'title': 'Visualizações do vídeo', 'description': 'Total de vezes que o vídeo foi visto', 'id': '17942783185461876/insights/video_views/lifetime'}]}\n",
      "{'data': [{'name': 'engagement', 'period': 'lifetime', 'values': [{'value': 374}], 'title': 'Interação', 'description': 'Total de gostos e comentários no conteúdo', 'id': '17863822130361776/insights/engagement/lifetime'}, {'name': 'impressions', 'period': 'lifetime', 'values': [{'value': 3299}], 'title': 'Impressões', 'description': 'Total de vezes que o conteúdo foi visto', 'id': '17863822130361776/insights/impressions/lifetime'}, {'name': 'reach', 'period': 'lifetime', 'values': [{'value': 2006}], 'title': 'Alcance', 'description': 'Total de contas individuais que viram o conteúdo', 'id': '17863822130361776/insights/reach/lifetime'}, {'name': 'saved', 'period': 'lifetime', 'values': [{'value': 0}], 'title': 'Guardado', 'description': 'Total de contas individuais que guardaram este conteúdo', 'id': '17863822130361776/insights/saved/lifetime'}, {'name': 'video_views', 'period': 'lifetime', 'values': [{'value': 0}], 'title': 'Visualizações do vídeo', 'description': 'Total de vezes que o vídeo foi visto', 'id': '17863822130361776/insights/video_views/lifetime'}]}\n",
      "{'data': [{'name': 'engagement', 'period': 'lifetime', 'values': [{'value': 242}], 'title': 'Interação', 'description': 'Total de gostos e comentários no conteúdo', 'id': '17859228353363822/insights/engagement/lifetime'}, {'name': 'impressions', 'period': 'lifetime', 'values': [{'value': 2627}], 'title': 'Impressões', 'description': 'Total de vezes que o conteúdo foi visto', 'id': '17859228353363822/insights/impressions/lifetime'}, {'name': 'reach', 'period': 'lifetime', 'values': [{'value': 1744}], 'title': 'Alcance', 'description': 'Total de contas individuais que viram o conteúdo', 'id': '17859228353363822/insights/reach/lifetime'}, {'name': 'saved', 'period': 'lifetime', 'values': [{'value': 0}], 'title': 'Guardado', 'description': 'Total de contas individuais que guardaram este conteúdo', 'id': '17859228353363822/insights/saved/lifetime'}, {'name': 'video_views', 'period': 'lifetime', 'values': [{'value': 0}], 'title': 'Visualizações do vídeo', 'description': 'Total de vezes que o vídeo foi visto', 'id': '17859228353363822/insights/video_views/lifetime'}]}\n",
      "{'error': {'message': 'Invalid parameter', 'type': 'OAuthException', 'code': 100, 'error_data': {'blame_field_specs': [['']]}, 'error_subcode': 2108006, 'is_transient': False, 'error_user_title': 'Conteúdos publicados antes da conversão para conta comercial', 'error_user_msg': \"The media was posted before the most recent time that the user's account was converted to a business account from a personal account.\", 'fbtrace_id': 'ANdkptNivNnWGANpKhJaSUz'}}\n",
      "{'error': {'message': 'Invalid parameter', 'type': 'OAuthException', 'code': 100, 'error_data': {'blame_field_specs': [['']]}, 'error_subcode': 2108006, 'is_transient': False, 'error_user_title': 'Conteúdos publicados antes da conversão para conta comercial', 'error_user_msg': \"The media was posted before the most recent time that the user's account was converted to a business account from a personal account.\", 'fbtrace_id': 'AtHk1W84ys-KBt37xXHjQ0X'}}\n",
      "{'error': {'message': 'Invalid parameter', 'type': 'OAuthException', 'code': 100, 'error_data': {'blame_field_specs': [['']]}, 'error_subcode': 2108006, 'is_transient': False, 'error_user_title': 'Conteúdos publicados antes da conversão para conta comercial', 'error_user_msg': \"The media was posted before the most recent time that the user's account was converted to a business account from a personal account.\", 'fbtrace_id': 'AGoV9RtsJostOmj0TB3Nqm5'}}\n",
      "{'error': {'message': 'Invalid parameter', 'type': 'OAuthException', 'code': 100, 'error_data': {'blame_field_specs': [['']]}, 'error_subcode': 2108006, 'is_transient': False, 'error_user_title': 'Conteúdos publicados antes da conversão para conta comercial', 'error_user_msg': \"The media was posted before the most recent time that the user's account was converted to a business account from a personal account.\", 'fbtrace_id': 'AO3_N-267xrFIUfLQ5nSO7e'}}\n",
      "{'error': {'message': 'Invalid parameter', 'type': 'OAuthException', 'code': 100, 'error_data': {'blame_field_specs': [['']]}, 'error_subcode': 2108006, 'is_transient': False, 'error_user_title': 'Conteúdos publicados antes da conversão para conta comercial', 'error_user_msg': \"The media was posted before the most recent time that the user's account was converted to a business account from a personal account.\", 'fbtrace_id': 'ATxWzXas8UhO74KL2aRXChl'}}\n",
      "{'error': {'message': 'Invalid parameter', 'type': 'OAuthException', 'code': 100, 'error_data': {'blame_field_specs': [['']]}, 'error_subcode': 2108006, 'is_transient': False, 'error_user_title': 'Conteúdos publicados antes da conversão para conta comercial', 'error_user_msg': \"The media was posted before the most recent time that the user's account was converted to a business account from a personal account.\", 'fbtrace_id': 'AnKLTGqaUc6l7nwdp9OnQml'}}\n",
      "{'error': {'message': 'Invalid parameter', 'type': 'OAuthException', 'code': 100, 'error_data': {'blame_field_specs': [['']]}, 'error_subcode': 2108006, 'is_transient': False, 'error_user_title': 'Conteúdos publicados antes da conversão para conta comercial', 'error_user_msg': \"The media was posted before the most recent time that the user's account was converted to a business account from a personal account.\", 'fbtrace_id': 'A4EIaPQp0L7BveQLqcZaHJ1'}}\n",
      "{'error': {'message': 'Invalid parameter', 'type': 'OAuthException', 'code': 100, 'error_data': {'blame_field_specs': [['']]}, 'error_subcode': 2108006, 'is_transient': False, 'error_user_title': 'Conteúdos publicados antes da conversão para conta comercial', 'error_user_msg': \"The media was posted before the most recent time that the user's account was converted to a business account from a personal account.\", 'fbtrace_id': 'A4saxoCe-s6fyxDYbPJ7ZXK'}}\n",
      "{'error': {'message': 'Invalid parameter', 'type': 'OAuthException', 'code': 100, 'error_data': {'blame_field_specs': [['']]}, 'error_subcode': 2108006, 'is_transient': False, 'error_user_title': 'Conteúdos publicados antes da conversão para conta comercial', 'error_user_msg': \"The media was posted before the most recent time that the user's account was converted to a business account from a personal account.\", 'fbtrace_id': 'AepxFza0c7NP_JPPCUUUDzN'}}\n",
      "{'error': {'message': 'Invalid parameter', 'type': 'OAuthException', 'code': 100, 'error_data': {'blame_field_specs': [['']]}, 'error_subcode': 2108006, 'is_transient': False, 'error_user_title': 'Conteúdos publicados antes da conversão para conta comercial', 'error_user_msg': \"The media was posted before the most recent time that the user's account was converted to a business account from a personal account.\", 'fbtrace_id': 'AgdaCYQ26yEgCeWw4DeiV_z'}}\n",
      "{'error': {'message': 'Invalid parameter', 'type': 'OAuthException', 'code': 100, 'error_data': {'blame_field_specs': [['']]}, 'error_subcode': 2108006, 'is_transient': False, 'error_user_title': 'Conteúdos publicados antes da conversão para conta comercial', 'error_user_msg': \"The media was posted before the most recent time that the user's account was converted to a business account from a personal account.\", 'fbtrace_id': 'AcXztOLzKJ1UK5wzULQCfTj'}}\n",
      "{'error': {'message': 'Invalid parameter', 'type': 'OAuthException', 'code': 100, 'error_data': {'blame_field_specs': [['']]}, 'error_subcode': 2108006, 'is_transient': False, 'error_user_title': 'Conteúdos publicados antes da conversão para conta comercial', 'error_user_msg': \"The media was posted before the most recent time that the user's account was converted to a business account from a personal account.\", 'fbtrace_id': 'ATHgpAR_9EBVOQvgjULVGRG'}}\n",
      "{'error': {'message': 'Invalid parameter', 'type': 'OAuthException', 'code': 100, 'error_data': {'blame_field_specs': [['']]}, 'error_subcode': 2108006, 'is_transient': False, 'error_user_title': 'Conteúdos publicados antes da conversão para conta comercial', 'error_user_msg': \"The media was posted before the most recent time that the user's account was converted to a business account from a personal account.\", 'fbtrace_id': 'AN94WKOO_K8DV33AL5ni9T4'}}\n",
      "{'error': {'message': 'Invalid parameter', 'type': 'OAuthException', 'code': 100, 'error_data': {'blame_field_specs': [['']]}, 'error_subcode': 2108006, 'is_transient': False, 'error_user_title': 'Conteúdos publicados antes da conversão para conta comercial', 'error_user_msg': \"The media was posted before the most recent time that the user's account was converted to a business account from a personal account.\", 'fbtrace_id': 'ARJUBkrHrWNq9HRjNZBVigd'}}\n",
      "{'error': {'message': 'Invalid parameter', 'type': 'OAuthException', 'code': 100, 'error_data': {'blame_field_specs': [['']]}, 'error_subcode': 2108006, 'is_transient': False, 'error_user_title': 'Conteúdos publicados antes da conversão para conta comercial', 'error_user_msg': \"The media was posted before the most recent time that the user's account was converted to a business account from a personal account.\", 'fbtrace_id': 'AYBLQRFFL9lX1-WzlA8CraV'}}\n",
      "{'error': {'message': 'Invalid parameter', 'type': 'OAuthException', 'code': 100, 'error_data': {'blame_field_specs': [['']]}, 'error_subcode': 2108006, 'is_transient': False, 'error_user_title': 'Conteúdos publicados antes da conversão para conta comercial', 'error_user_msg': \"The media was posted before the most recent time that the user's account was converted to a business account from a personal account.\", 'fbtrace_id': 'AZFdqI6HWCl1xF4zkbhtyEt'}}\n",
      "{'error': {'message': 'Invalid parameter', 'type': 'OAuthException', 'code': 100, 'error_data': {'blame_field_specs': [['']]}, 'error_subcode': 2108006, 'is_transient': False, 'error_user_title': 'Conteúdos publicados antes da conversão para conta comercial', 'error_user_msg': \"The media was posted before the most recent time that the user's account was converted to a business account from a personal account.\", 'fbtrace_id': 'A9rppTvLwhdB0zPIvQFSiIP'}}\n",
      "{'error': {'message': 'Invalid parameter', 'type': 'OAuthException', 'code': 100, 'error_data': {'blame_field_specs': [['']]}, 'error_subcode': 2108006, 'is_transient': False, 'error_user_title': 'Conteúdos publicados antes da conversão para conta comercial', 'error_user_msg': \"The media was posted before the most recent time that the user's account was converted to a business account from a personal account.\", 'fbtrace_id': 'AacW2EHRyA8vkDzPwWdReSL'}}\n",
      "{'error': {'message': 'Invalid parameter', 'type': 'OAuthException', 'code': 100, 'error_data': {'blame_field_specs': [['']]}, 'error_subcode': 2108006, 'is_transient': False, 'error_user_title': 'Conteúdos publicados antes da conversão para conta comercial', 'error_user_msg': \"The media was posted before the most recent time that the user's account was converted to a business account from a personal account.\", 'fbtrace_id': 'A0tUBpaPv-S7oGGegi7A3lc'}}\n",
      "{'error': {'message': 'Invalid parameter', 'type': 'OAuthException', 'code': 100, 'error_data': {'blame_field_specs': [['']]}, 'error_subcode': 2108006, 'is_transient': False, 'error_user_title': 'Conteúdos publicados antes da conversão para conta comercial', 'error_user_msg': \"The media was posted before the most recent time that the user's account was converted to a business account from a personal account.\", 'fbtrace_id': 'ALMx9z-tby_g69vSzjoTSKs'}}\n"
     ]
    }
   ],
   "source": [
    "#SEPARA OS ID'S E ADICIONA EM UMA LISTA\n",
    "id_fotos_list = []\n",
    "for i in range(0,(len(basic_insight['data']))):\n",
    "    id_fotos_list.append(basic_insight['data'][i]['id'])\n",
    "\n",
    "#TRANSFORMA ESSA LISTA EM UM DICIONARIO\n",
    "parametros = {'id_fotos':id_fotos_list}\n",
    "\n",
    "\n",
    "# Define Endpoint Parameters\n",
    "\n",
    "\n",
    "\n",
    "# Define URL\n",
    "fotos_insight = []\n",
    "for i in range(0,len(parametros['id_fotos'])):\n",
    "    url = params['endpoint_base'] + parametros['id_fotos'][i]+ '/insights'\n",
    "\n",
    "\n",
    "    endpointParams1 = dict()\n",
    "    endpointParams1['metric'] = 'engagement,impressions,reach,saved,video_views'\n",
    "    endpointParams1['access_token'] = params['access_token']\n",
    "   \n",
    "    try:\n",
    "         data = requests.get(url, endpointParams1 )\n",
    "         fotos_basic_insight = json.loads(data.content)\n",
    "         print(fotos_basic_insight)\n",
    "         fotos_insight.append(fotos_basic_insight['data'])\n",
    "    except:\n",
    "         pass\n",
    "\n",
    "    # print(fotos_insight)\n",
    "\n",
    "     \n",
    "\n",
    "\n",
    "\n"
   ]
  },
  {
   "cell_type": "code",
   "execution_count": null,
   "metadata": {},
   "outputs": [],
   "source": [
    "media_insight = []\n",
    "\n",
    "# Loop Over 'Media ID'\n",
    "for i in basic_insight['data']:\n",
    "    params['latest_media_id'] = i['id']\n",
    "   \n",
    "    # Define URL\n",
    "    url = params['endpoint_base'] + params['latest_media_id'] + '/insights'\n",
    "\n",
    "    # Define Endpoint Parameters\n",
    "    endpointParams = dict() \n",
    "    endpointParams['metric'] = 'engagement,impressions,reach,saved,video_views'\n",
    "    endpointParams['access_token'] = params['access_token'] \n",
    "    \n",
    "    # Requests Data\n",
    "    data = requests.get(url, endpointParams )\n",
    "    json_data_temp = json.loads(data.content)\n",
    "  \n",
    "    try:\n",
    "        media_insight.append(list(json_data_temp['data']))\n",
    "\n",
    "    except:\n",
    "        pass\n",
    "    "
   ]
  },
  {
   "cell_type": "code",
   "execution_count": null,
   "metadata": {},
   "outputs": [
    {
     "data": {
      "text/html": [
       "<div>\n",
       "<style scoped>\n",
       "    .dataframe tbody tr th:only-of-type {\n",
       "        vertical-align: middle;\n",
       "    }\n",
       "\n",
       "    .dataframe tbody tr th {\n",
       "        vertical-align: top;\n",
       "    }\n",
       "\n",
       "    .dataframe thead th {\n",
       "        text-align: right;\n",
       "    }\n",
       "</style>\n",
       "<table border=\"1\" class=\"dataframe\">\n",
       "  <thead>\n",
       "    <tr style=\"text-align: right;\">\n",
       "      <th></th>\n",
       "      <th>Engagement</th>\n",
       "      <th>Impressions</th>\n",
       "      <th>Reach</th>\n",
       "      <th>Saved</th>\n",
       "      <th>Views in videos</th>\n",
       "    </tr>\n",
       "  </thead>\n",
       "  <tbody>\n",
       "    <tr>\n",
       "      <th>0</th>\n",
       "      <td>196</td>\n",
       "      <td>1361</td>\n",
       "      <td>983</td>\n",
       "      <td>0</td>\n",
       "      <td>0</td>\n",
       "    </tr>\n",
       "    <tr>\n",
       "      <th>1</th>\n",
       "      <td>330</td>\n",
       "      <td>3363</td>\n",
       "      <td>2011</td>\n",
       "      <td>0</td>\n",
       "      <td>0</td>\n",
       "    </tr>\n",
       "    <tr>\n",
       "      <th>2</th>\n",
       "      <td>374</td>\n",
       "      <td>3299</td>\n",
       "      <td>2006</td>\n",
       "      <td>0</td>\n",
       "      <td>0</td>\n",
       "    </tr>\n",
       "    <tr>\n",
       "      <th>3</th>\n",
       "      <td>242</td>\n",
       "      <td>2627</td>\n",
       "      <td>1744</td>\n",
       "      <td>0</td>\n",
       "      <td>0</td>\n",
       "    </tr>\n",
       "  </tbody>\n",
       "</table>\n",
       "</div>"
      ],
      "text/plain": [
       "   Engagement  Impressions  Reach  Saved  Views in videos\n",
       "0         196         1361    983      0                0\n",
       "1         330         3363   2011      0                0\n",
       "2         374         3299   2006      0                0\n",
       "3         242         2627   1744      0                0"
      ]
     },
     "execution_count": 34,
     "metadata": {},
     "output_type": "execute_result"
    }
   ],
   "source": [
    "\n",
    "# Initialize Empty Container\n",
    "engagement_list = []\n",
    "impressions_list = []\n",
    "reach_list = []\n",
    "saved_list = []\n",
    "video_views = []\n",
    "\n",
    "# Loop Over Insights to Fill Container\n",
    "for insight in media_insight:\n",
    "    engagement_list.append(insight[0]['values'][0]['value'])\n",
    "    impressions_list.append(insight[1]['values'][0]['value'])\n",
    "    reach_list.append(insight[2]['values'][0]['value'])\n",
    "    saved_list.append(insight[3]['values'][0]['value'])\n",
    "    video_views.append(insight[4]['values'][0]['value'])\n",
    "    \n",
    "# Create DataFrame\n",
    "df_media_insight = pd.DataFrame(list(zip(engagement_list, impressions_list, reach_list, saved_list,video_views)), columns =['Engagement', 'Impressions', 'Reach', 'Saved','Views in videos'])\n",
    "df_media_insight.head()"
   ]
  }
 ],
 "metadata": {
  "interpreter": {
   "hash": "916dbcbb3f70747c44a77c7bcd40155683ae19c65e1c03b4aa3499c5328201f1"
  },
  "kernelspec": {
   "display_name": "Python 3.8.10 64-bit",
   "language": "python",
   "name": "python3"
  },
  "language_info": {
   "codemirror_mode": {
    "name": "ipython",
    "version": 3
   },
   "file_extension": ".py",
   "mimetype": "text/x-python",
   "name": "python",
   "nbconvert_exporter": "python",
   "pygments_lexer": "ipython3",
   "version": "3.8.10"
  },
  "orig_nbformat": 4
 },
 "nbformat": 4,
 "nbformat_minor": 2
}
